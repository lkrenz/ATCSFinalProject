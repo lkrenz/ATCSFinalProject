{
 "cells": [
  {
   "cell_type": "markdown",
   "metadata": {},
   "source": [
    "# Playlist analyzer"
   ]
  },
  {
   "cell_type": "markdown",
   "metadata": {},
   "source": [
    "Because of what happened with my account being flagged, this current code doesn't work. It was working perfectly until class, but I will have to find a workaround that doesn't use the api to find song data on the user's playlist. "
   ]
  },
  {
   "cell_type": "markdown",
   "metadata": {},
   "source": [
    "## Import the spotify api"
   ]
  },
  {
   "cell_type": "code",
   "execution_count": 8,
   "metadata": {},
   "outputs": [],
   "source": [
    "import spotipy\n",
    "from spotipy.oauth2 import SpotifyOAuth\n",
    "import pandas as pd\n",
    "from scipy.spatial.distance import cdist\n",
    "from sklearn.cluster import KMeans\n",
    "from sklearn.preprocessing import MinMaxScaler\n",
    "\n",
    "# Define your credentials and redirection URI\n",
    "SPOTIPY_CLIENT_ID = 'dda606479dd244a9b0948c01f155ac7a'\n",
    "SPOTIPY_CLIENT_SECRET = 'd714739739a04b0fa662e521e1a85ff8'\n",
    "SPOTIPY_REDIRECT_URI = 'http://localhost:3000'\n",
    "\n",
    "# Create the Spotify client\n",
    "\n",
    "spotify = spotipy.Spotify(auth_manager=SpotifyOAuth(\n",
    "    client_id=SPOTIPY_CLIENT_ID,\n",
    "    client_secret=SPOTIPY_CLIENT_SECRET,\n",
    "    redirect_uri=SPOTIPY_REDIRECT_URI,\n",
    "))\n",
    "\n",
    "user_name = input(\"Enter your spotify ID: \")\n",
    "playlists = spotify.user_playlists(user_name)\n",
    "name = input(\"Enter playlist name: \")\n",
    "\n",
    "\n",
    "# https://stackoverflow.com/questions/39086287/spotipy-how-to-read-more-than-100-tracks-from-a-playlist\n",
    "def get_playlist_tracks(playlist_id):\n",
    "    results = spotify.playlist_tracks(playlist_id)\n",
    "    tracks = results['items']\n",
    "    while results['next']:\n",
    "        results = spotify.next(results)\n",
    "        tracks.extend(results['items'])\n",
    "    return tracks\n",
    "\n",
    "playlist_id = 0\n",
    "for i in playlists[\"items\"] : \n",
    "    if i[\"name\"] == name :\n",
    "        playlist_id = i[\"id\"]\n",
    "playlist_data = get_playlist_tracks(playlist_id)\n"
   ]
  },
  {
   "cell_type": "markdown",
   "metadata": {},
   "source": [
    "## Extract song data on each song"
   ]
  },
  {
   "cell_type": "code",
   "execution_count": 9,
   "metadata": {},
   "outputs": [
    {
     "name": "stdout",
     "output_type": "stream",
     "text": [
      "{'danceability': 0.492, 'energy': 0.762, 'key': 8, 'loudness': -6.813, 'mode': 1, 'speechiness': 0.0388, 'acousticness': 0.000551, 'instrumentalness': 0.125, 'liveness': 0.366, 'valence': 0.413, 'tempo': 129.682, 'type': 'audio_features', 'id': '3tYxhPqkioZEV5el3DJxLQ', 'uri': 'spotify:track:3tYxhPqkioZEV5el3DJxLQ', 'track_href': 'https://api.spotify.com/v1/tracks/3tYxhPqkioZEV5el3DJxLQ', 'analysis_url': 'https://api.spotify.com/v1/audio-analysis/3tYxhPqkioZEV5el3DJxLQ', 'duration_ms': 249515, 'time_signature': 4}\n"
     ]
    }
   ],
   "source": [
    "playlist = []\n",
    "names = []\n",
    "\n",
    "for i in playlist_data : \n",
    "    names.append(i[\"track\"][\"name\"])\n",
    "    playlist.append(spotify.audio_features(i[\"track\"][\"id\"])[0])\n",
    "\n",
    "print(playlist[1])\n"
   ]
  },
  {
   "cell_type": "markdown",
   "metadata": {},
   "source": [
    "### Convert the new data into a dataframe including the name of each song"
   ]
  },
  {
   "cell_type": "code",
   "execution_count": 22,
   "metadata": {},
   "outputs": [
    {
     "data": {
      "text/plain": [
       "(52, 5)"
      ]
     },
     "execution_count": 22,
     "metadata": {},
     "output_type": "execute_result"
    }
   ],
   "source": [
    "collumns = [\"danceability\", \"energy\", \"key\", \"loudness\", \"mode\", \"speechiness\", \"acousticness\", \"instrumentalness\", \"liveness\", \"valence\", \"tempo\", \"type\", \"id\", \"uri\", \"track_href\", \"analysis_url\", \"duration_ms\", \"time_signature\"]\n",
    "selected_columns = [\"energy\", \"acousticness\", \"valence\", \"speechiness\"]\n",
    "\n",
    "df = pd.DataFrame(playlist, columns=collumns)\n",
    "df = df[selected_columns]\n",
    "df[\"name\"] = names\n",
    "\n",
    "# scaler = MinMaxScaler()\n",
    "# scaler = scaler.fit(df[[\"tempo\"]])\n",
    "\n",
    "# df[\"tempo\"] = pd.DataFrame(scaler.transform(df[[\"tempo\"]]))\n",
    "df.shape\n",
    "\n",
    "\n",
    "\n"
   ]
  },
  {
   "cell_type": "markdown",
   "metadata": {},
   "source": [
    "## Find the distance of each song to the central point of the playlist's cluster"
   ]
  },
  {
   "cell_type": "code",
   "execution_count": 11,
   "metadata": {},
   "outputs": [
    {
     "name": "stdout",
     "output_type": "stream",
     "text": [
      "0.5884934531543962\n"
     ]
    },
    {
     "data": {
      "text/html": [
       "<div>\n",
       "<style scoped>\n",
       "    .dataframe tbody tr th:only-of-type {\n",
       "        vertical-align: middle;\n",
       "    }\n",
       "\n",
       "    .dataframe tbody tr th {\n",
       "        vertical-align: top;\n",
       "    }\n",
       "\n",
       "    .dataframe thead th {\n",
       "        text-align: right;\n",
       "    }\n",
       "</style>\n",
       "<table border=\"1\" class=\"dataframe\">\n",
       "  <thead>\n",
       "    <tr style=\"text-align: right;\">\n",
       "      <th></th>\n",
       "      <th>energy</th>\n",
       "      <th>acousticness</th>\n",
       "      <th>valence</th>\n",
       "      <th>speechiness</th>\n",
       "      <th>name</th>\n",
       "      <th>distance</th>\n",
       "    </tr>\n",
       "  </thead>\n",
       "  <tbody>\n",
       "    <tr>\n",
       "      <th>13</th>\n",
       "      <td>0.476</td>\n",
       "      <td>0.397</td>\n",
       "      <td>0.234</td>\n",
       "      <td>0.0249</td>\n",
       "      <td>Dream On</td>\n",
       "      <td>0.588674</td>\n",
       "    </tr>\n",
       "  </tbody>\n",
       "</table>\n",
       "</div>"
      ],
      "text/plain": [
       "    energy  acousticness  valence  speechiness      name  distance\n",
       "13   0.476         0.397    0.234       0.0249  Dream On  0.588674"
      ]
     },
     "execution_count": 11,
     "metadata": {},
     "output_type": "execute_result"
    }
   ],
   "source": [
    "model = KMeans(n_clusters=1)\n",
    "model.fit(df[selected_columns])\n",
    "\n",
    "\n",
    "centroid = model.cluster_centers_[0]\n",
    "distances = []\n",
    "\n",
    "for i in range(len(df)) :\n",
    "    distance = cdist([df[selected_columns].iloc[i]], [centroid], metric=\"euclidean\")\n",
    "    distances.append(distance[0][0])\n",
    "\n",
    "df[\"distance\"] = distances\n",
    "\n",
    "Q1 = df[\"distance\"].quantile(0.25)\n",
    "Q3 = df['distance'].quantile(0.75)\n",
    "\n",
    "max = Q3 + (Q3-Q1)*2\n",
    "print(max)\n",
    "\n",
    "df.loc[df[\"distance\"] > max]\n",
    "\n"
   ]
  },
  {
   "cell_type": "markdown",
   "metadata": {},
   "source": [
    "## Load in the data"
   ]
  },
  {
   "cell_type": "code",
   "execution_count": 55,
   "metadata": {},
   "outputs": [
    {
     "name": "stderr",
     "output_type": "stream",
     "text": [
      "/var/folders/k6/qgdgj9qj743ff3dn87fyv0yr0000gn/T/ipykernel_2575/3618754505.py:1: DtypeWarning: Columns (0) have mixed types. Specify dtype option on import or set low_memory=False.\n",
      "  df = pd.read_csv(\"data.csv\")\n"
     ]
    }
   ],
   "source": [
    "df = pd.read_csv(\"data.csv\")\n",
    "df['energy'] = pd.to_numeric(df['energy'], errors='coerce')\n"
   ]
  },
  {
   "cell_type": "code",
   "execution_count": 56,
   "metadata": {},
   "outputs": [
    {
     "name": "stdout",
     "output_type": "stream",
     "text": [
      "<class 'pandas.core.frame.DataFrame'>\n",
      "RangeIndex: 1982929 entries, 0 to 1982928\n",
      "Data columns (total 5 columns):\n",
      " #   Column        Dtype  \n",
      "---  ------        -----  \n",
      " 0   energy        float64\n",
      " 1   acousticness  float64\n",
      " 2   valence       float64\n",
      " 3   speechiness   float64\n",
      " 4   title         object \n",
      "dtypes: float64(4), object(1)\n",
      "memory usage: 75.6+ MB\n"
     ]
    }
   ],
   "source": [
    "df.info()"
   ]
  },
  {
   "cell_type": "markdown",
   "metadata": {},
   "source": [
    "## Find recommendations"
   ]
  },
  {
   "cell_type": "code",
   "execution_count": 58,
   "metadata": {},
   "outputs": [
    {
     "name": "stdout",
     "output_type": "stream",
     "text": [
      "['Psycho', 'Amazing World (2011)', 'Turn Back My Love (2009)', 'Time Flies So Fast (2008)', 'The Steel (2010)', 'The Final Edge (2009)', 'The Evilsign (2007)', 'Song of Extasy (2007)', 'Self Control (2008)', 'Road Love (2006)', 'Right Now (Strong Kick) 2009', 'Return to Space Dizzy (2009)', 'Protection (2011)', 'Promise of Love (2011)', 'Played Alive (2011)', 'Paralyzed Synth (2010)', 'Over of Time (2007)', 'Noise Love (2008)', 'New Vision (2010)', 'New Prophercy V (2006)', 'New Prophercy III (2006)', 'New Prophercy (2006)', 'Need for Speed (2009)', 'Mystic of Angels (2011)', 'Mystic Love (2009)', 'Mystic Flower (2008)', 'Mind Wave (2008)', 'Mild More (2008)', 'Love Kiss (2007)', 'Love in My Memory (2010)', 'Last Week (2007)', 'Just Right Now (2007)', 'Join Us (2010)', 'Invitation (2009)', 'Invisible (2008)', \"I'm So Alone (2009)\", 'I Have a Dream (2010)', 'I Fleer (2008)', 'I Cannot Find You (2010)', 'Help Me Escape (2009)', 'Harmonic Day (2010)', 'Growdraw (2010)', 'Groove Mystic (2010)', 'Goodbye 2009', 'Glory of Flight (2010)', 'Friday (2009)', 'Fascination (2009)', 'Faldicity (2010)', 'Do It a Flow (2009)', 'Trance in My Heart (2020)']\n"
     ]
    }
   ],
   "source": [
    "recommendations = []\n",
    "for i in range(len(df)) :\n",
    "    distance = cdist([df[selected_columns].iloc[i].values], [centroid], metric=\"euclidean\")\n",
    "    if (distance < 0.5) :\n",
    "        recommendations.append(df.iloc[i][\"title\"])\n",
    "    if len(recommendations) >= 50 :\n",
    "        break\n",
    "\n",
    "print(recommendations)\n",
    "\n"
   ]
  },
  {
   "cell_type": "markdown",
   "metadata": {},
   "source": []
  },
  {
   "cell_type": "code",
   "execution_count": 39,
   "metadata": {},
   "outputs": [
    {
     "name": "stdout",
     "output_type": "stream",
     "text": [
      "<class 'pandas.core.frame.DataFrame'>\n",
      "RangeIndex: 1982929 entries, 0 to 1982928\n",
      "Data columns (total 5 columns):\n",
      " #   Column        Dtype  \n",
      "---  ------        -----  \n",
      " 0   energy        object \n",
      " 1   acousticness  float64\n",
      " 2   valence       float64\n",
      " 3   speechiness   float64\n",
      " 4   title         object \n",
      "dtypes: float64(3), object(2)\n",
      "memory usage: 75.6+ MB\n"
     ]
    }
   ],
   "source": []
  }
 ],
 "metadata": {
  "kernelspec": {
   "display_name": ".venv",
   "language": "python",
   "name": "python3"
  },
  "language_info": {
   "codemirror_mode": {
    "name": "ipython",
    "version": 3
   },
   "file_extension": ".py",
   "mimetype": "text/x-python",
   "name": "python",
   "nbconvert_exporter": "python",
   "pygments_lexer": "ipython3",
   "version": "3.9.6"
  },
  "orig_nbformat": 4
 },
 "nbformat": 4,
 "nbformat_minor": 2
}
