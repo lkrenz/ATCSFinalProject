{
 "cells": [
  {
   "cell_type": "markdown",
   "metadata": {},
   "source": [
    "# Playlist analyzer"
   ]
  },
  {
   "cell_type": "markdown",
   "metadata": {},
   "source": [
    "Because of what happened with my account being flagged, this current code doesn't work. It was working perfectly until class, but I will have to find a workaround that doesn't use the api to find song data on the user's playlist. "
   ]
  },
  {
   "cell_type": "markdown",
   "metadata": {},
   "source": [
    "## Import the spotify api"
   ]
  },
  {
   "cell_type": "code",
   "execution_count": 19,
   "metadata": {},
   "outputs": [],
   "source": [
    "import spotipy\n",
    "from spotipy.oauth2 import SpotifyOAuth\n",
    "import pandas as pd\n",
    "from scipy.spatial.distance import cdist\n",
    "from sklearn.cluster import KMeans\n",
    "from sklearn.preprocessing import MinMaxScaler\n",
    "\n",
    "# Define your credentials and redirection URI\n",
    "SPOTIPY_CLIENT_ID = 'dda606479dd244a9b0948c01f155ac7a'\n",
    "SPOTIPY_CLIENT_SECRET = 'd714739739a04b0fa662e521e1a85ff8'\n",
    "SPOTIPY_REDIRECT_URI = 'http://localhost:3000'\n",
    "\n",
    "# Create the Spotify client\n",
    "\n",
    "spotify = spotipy.Spotify(auth_manager=SpotifyOAuth(\n",
    "    client_id=SPOTIPY_CLIENT_ID,\n",
    "    client_secret=SPOTIPY_CLIENT_SECRET,\n",
    "    redirect_uri=SPOTIPY_REDIRECT_URI,\n",
    "))\n",
    "\n",
    "user_name = input(\"Enter your spotify ID: \")\n",
    "playlists = spotify.user_playlists(user_name)\n",
    "name = input(\"Enter playlist name: \")\n",
    "\n",
    "\n",
    "# https://stackoverflow.com/questions/39086287/spotipy-how-to-read-more-than-100-tracks-from-a-playlist\n",
    "def get_playlist_tracks(playlist_id):\n",
    "    results = spotify.playlist_tracks(playlist_id)\n",
    "    tracks = results['items']\n",
    "    while results['next']:\n",
    "        results = spotify.next(results)\n",
    "        tracks.extend(results['items'])\n",
    "    return tracks\n",
    "\n",
    "playlist_id = 0\n",
    "for i in playlists[\"items\"] : \n",
    "    if i[\"name\"] == name :\n",
    "        playlist_id = i[\"id\"]\n",
    "playlist_data = get_playlist_tracks(playlist_id)\n"
   ]
  },
  {
   "cell_type": "markdown",
   "metadata": {},
   "source": [
    "## Extract song data on each song"
   ]
  },
  {
   "cell_type": "code",
   "execution_count": 20,
   "metadata": {},
   "outputs": [
    {
     "name": "stderr",
     "output_type": "stream",
     "text": [
      "Max Retries reached\n"
     ]
    },
    {
     "ename": "SpotifyException",
     "evalue": "http status: 429, code:-1 - /v1/audio-features/?ids=2zyLMphhwqYIYhGvh36SoG:\n Max Retries, reason: too many 429 error responses",
     "output_type": "error",
     "traceback": [
      "\u001b[0;31m---------------------------------------------------------------------------\u001b[0m",
      "\u001b[0;31mResponseError\u001b[0m                             Traceback (most recent call last)",
      "\u001b[0;31mResponseError\u001b[0m: too many 429 error responses",
      "\nThe above exception was the direct cause of the following exception:\n",
      "\u001b[0;31mMaxRetryError\u001b[0m                             Traceback (most recent call last)",
      "File \u001b[0;32m~/Desktop/ATCS/Final Project/ATCSFinalProject/.venv/lib/python3.9/site-packages/requests/adapters.py:486\u001b[0m, in \u001b[0;36mHTTPAdapter.send\u001b[0;34m(self, request, stream, timeout, verify, cert, proxies)\u001b[0m\n\u001b[1;32m    485\u001b[0m \u001b[39mtry\u001b[39;00m:\n\u001b[0;32m--> 486\u001b[0m     resp \u001b[39m=\u001b[39m conn\u001b[39m.\u001b[39;49murlopen(\n\u001b[1;32m    487\u001b[0m         method\u001b[39m=\u001b[39;49mrequest\u001b[39m.\u001b[39;49mmethod,\n\u001b[1;32m    488\u001b[0m         url\u001b[39m=\u001b[39;49murl,\n\u001b[1;32m    489\u001b[0m         body\u001b[39m=\u001b[39;49mrequest\u001b[39m.\u001b[39;49mbody,\n\u001b[1;32m    490\u001b[0m         headers\u001b[39m=\u001b[39;49mrequest\u001b[39m.\u001b[39;49mheaders,\n\u001b[1;32m    491\u001b[0m         redirect\u001b[39m=\u001b[39;49m\u001b[39mFalse\u001b[39;49;00m,\n\u001b[1;32m    492\u001b[0m         assert_same_host\u001b[39m=\u001b[39;49m\u001b[39mFalse\u001b[39;49;00m,\n\u001b[1;32m    493\u001b[0m         preload_content\u001b[39m=\u001b[39;49m\u001b[39mFalse\u001b[39;49;00m,\n\u001b[1;32m    494\u001b[0m         decode_content\u001b[39m=\u001b[39;49m\u001b[39mFalse\u001b[39;49;00m,\n\u001b[1;32m    495\u001b[0m         retries\u001b[39m=\u001b[39;49m\u001b[39mself\u001b[39;49m\u001b[39m.\u001b[39;49mmax_retries,\n\u001b[1;32m    496\u001b[0m         timeout\u001b[39m=\u001b[39;49mtimeout,\n\u001b[1;32m    497\u001b[0m         chunked\u001b[39m=\u001b[39;49mchunked,\n\u001b[1;32m    498\u001b[0m     )\n\u001b[1;32m    500\u001b[0m \u001b[39mexcept\u001b[39;00m (ProtocolError, \u001b[39mOSError\u001b[39;00m) \u001b[39mas\u001b[39;00m err:\n",
      "File \u001b[0;32m~/Desktop/ATCS/Final Project/ATCSFinalProject/.venv/lib/python3.9/site-packages/urllib3/connectionpool.py:948\u001b[0m, in \u001b[0;36mHTTPConnectionPool.urlopen\u001b[0;34m(self, method, url, body, headers, retries, redirect, assert_same_host, timeout, pool_timeout, release_conn, chunked, body_pos, preload_content, decode_content, **response_kw)\u001b[0m\n\u001b[1;32m    947\u001b[0m     log\u001b[39m.\u001b[39mdebug(\u001b[39m\"\u001b[39m\u001b[39mRetry: \u001b[39m\u001b[39m%s\u001b[39;00m\u001b[39m\"\u001b[39m, url)\n\u001b[0;32m--> 948\u001b[0m     \u001b[39mreturn\u001b[39;00m \u001b[39mself\u001b[39;49m\u001b[39m.\u001b[39;49murlopen(\n\u001b[1;32m    949\u001b[0m         method,\n\u001b[1;32m    950\u001b[0m         url,\n\u001b[1;32m    951\u001b[0m         body,\n\u001b[1;32m    952\u001b[0m         headers,\n\u001b[1;32m    953\u001b[0m         retries\u001b[39m=\u001b[39;49mretries,\n\u001b[1;32m    954\u001b[0m         redirect\u001b[39m=\u001b[39;49mredirect,\n\u001b[1;32m    955\u001b[0m         assert_same_host\u001b[39m=\u001b[39;49massert_same_host,\n\u001b[1;32m    956\u001b[0m         timeout\u001b[39m=\u001b[39;49mtimeout,\n\u001b[1;32m    957\u001b[0m         pool_timeout\u001b[39m=\u001b[39;49mpool_timeout,\n\u001b[1;32m    958\u001b[0m         release_conn\u001b[39m=\u001b[39;49mrelease_conn,\n\u001b[1;32m    959\u001b[0m         chunked\u001b[39m=\u001b[39;49mchunked,\n\u001b[1;32m    960\u001b[0m         body_pos\u001b[39m=\u001b[39;49mbody_pos,\n\u001b[1;32m    961\u001b[0m         preload_content\u001b[39m=\u001b[39;49mpreload_content,\n\u001b[1;32m    962\u001b[0m         decode_content\u001b[39m=\u001b[39;49mdecode_content,\n\u001b[1;32m    963\u001b[0m         \u001b[39m*\u001b[39;49m\u001b[39m*\u001b[39;49mresponse_kw,\n\u001b[1;32m    964\u001b[0m     )\n\u001b[1;32m    966\u001b[0m \u001b[39mreturn\u001b[39;00m response\n",
      "File \u001b[0;32m~/Desktop/ATCS/Final Project/ATCSFinalProject/.venv/lib/python3.9/site-packages/urllib3/connectionpool.py:948\u001b[0m, in \u001b[0;36mHTTPConnectionPool.urlopen\u001b[0;34m(self, method, url, body, headers, retries, redirect, assert_same_host, timeout, pool_timeout, release_conn, chunked, body_pos, preload_content, decode_content, **response_kw)\u001b[0m\n\u001b[1;32m    947\u001b[0m     log\u001b[39m.\u001b[39mdebug(\u001b[39m\"\u001b[39m\u001b[39mRetry: \u001b[39m\u001b[39m%s\u001b[39;00m\u001b[39m\"\u001b[39m, url)\n\u001b[0;32m--> 948\u001b[0m     \u001b[39mreturn\u001b[39;00m \u001b[39mself\u001b[39;49m\u001b[39m.\u001b[39;49murlopen(\n\u001b[1;32m    949\u001b[0m         method,\n\u001b[1;32m    950\u001b[0m         url,\n\u001b[1;32m    951\u001b[0m         body,\n\u001b[1;32m    952\u001b[0m         headers,\n\u001b[1;32m    953\u001b[0m         retries\u001b[39m=\u001b[39;49mretries,\n\u001b[1;32m    954\u001b[0m         redirect\u001b[39m=\u001b[39;49mredirect,\n\u001b[1;32m    955\u001b[0m         assert_same_host\u001b[39m=\u001b[39;49massert_same_host,\n\u001b[1;32m    956\u001b[0m         timeout\u001b[39m=\u001b[39;49mtimeout,\n\u001b[1;32m    957\u001b[0m         pool_timeout\u001b[39m=\u001b[39;49mpool_timeout,\n\u001b[1;32m    958\u001b[0m         release_conn\u001b[39m=\u001b[39;49mrelease_conn,\n\u001b[1;32m    959\u001b[0m         chunked\u001b[39m=\u001b[39;49mchunked,\n\u001b[1;32m    960\u001b[0m         body_pos\u001b[39m=\u001b[39;49mbody_pos,\n\u001b[1;32m    961\u001b[0m         preload_content\u001b[39m=\u001b[39;49mpreload_content,\n\u001b[1;32m    962\u001b[0m         decode_content\u001b[39m=\u001b[39;49mdecode_content,\n\u001b[1;32m    963\u001b[0m         \u001b[39m*\u001b[39;49m\u001b[39m*\u001b[39;49mresponse_kw,\n\u001b[1;32m    964\u001b[0m     )\n\u001b[1;32m    966\u001b[0m \u001b[39mreturn\u001b[39;00m response\n",
      "File \u001b[0;32m~/Desktop/ATCS/Final Project/ATCSFinalProject/.venv/lib/python3.9/site-packages/urllib3/connectionpool.py:948\u001b[0m, in \u001b[0;36mHTTPConnectionPool.urlopen\u001b[0;34m(self, method, url, body, headers, retries, redirect, assert_same_host, timeout, pool_timeout, release_conn, chunked, body_pos, preload_content, decode_content, **response_kw)\u001b[0m\n\u001b[1;32m    947\u001b[0m     log\u001b[39m.\u001b[39mdebug(\u001b[39m\"\u001b[39m\u001b[39mRetry: \u001b[39m\u001b[39m%s\u001b[39;00m\u001b[39m\"\u001b[39m, url)\n\u001b[0;32m--> 948\u001b[0m     \u001b[39mreturn\u001b[39;00m \u001b[39mself\u001b[39;49m\u001b[39m.\u001b[39;49murlopen(\n\u001b[1;32m    949\u001b[0m         method,\n\u001b[1;32m    950\u001b[0m         url,\n\u001b[1;32m    951\u001b[0m         body,\n\u001b[1;32m    952\u001b[0m         headers,\n\u001b[1;32m    953\u001b[0m         retries\u001b[39m=\u001b[39;49mretries,\n\u001b[1;32m    954\u001b[0m         redirect\u001b[39m=\u001b[39;49mredirect,\n\u001b[1;32m    955\u001b[0m         assert_same_host\u001b[39m=\u001b[39;49massert_same_host,\n\u001b[1;32m    956\u001b[0m         timeout\u001b[39m=\u001b[39;49mtimeout,\n\u001b[1;32m    957\u001b[0m         pool_timeout\u001b[39m=\u001b[39;49mpool_timeout,\n\u001b[1;32m    958\u001b[0m         release_conn\u001b[39m=\u001b[39;49mrelease_conn,\n\u001b[1;32m    959\u001b[0m         chunked\u001b[39m=\u001b[39;49mchunked,\n\u001b[1;32m    960\u001b[0m         body_pos\u001b[39m=\u001b[39;49mbody_pos,\n\u001b[1;32m    961\u001b[0m         preload_content\u001b[39m=\u001b[39;49mpreload_content,\n\u001b[1;32m    962\u001b[0m         decode_content\u001b[39m=\u001b[39;49mdecode_content,\n\u001b[1;32m    963\u001b[0m         \u001b[39m*\u001b[39;49m\u001b[39m*\u001b[39;49mresponse_kw,\n\u001b[1;32m    964\u001b[0m     )\n\u001b[1;32m    966\u001b[0m \u001b[39mreturn\u001b[39;00m response\n",
      "File \u001b[0;32m~/Desktop/ATCS/Final Project/ATCSFinalProject/.venv/lib/python3.9/site-packages/urllib3/connectionpool.py:938\u001b[0m, in \u001b[0;36mHTTPConnectionPool.urlopen\u001b[0;34m(self, method, url, body, headers, retries, redirect, assert_same_host, timeout, pool_timeout, release_conn, chunked, body_pos, preload_content, decode_content, **response_kw)\u001b[0m\n\u001b[1;32m    937\u001b[0m \u001b[39mtry\u001b[39;00m:\n\u001b[0;32m--> 938\u001b[0m     retries \u001b[39m=\u001b[39m retries\u001b[39m.\u001b[39;49mincrement(method, url, response\u001b[39m=\u001b[39;49mresponse, _pool\u001b[39m=\u001b[39;49m\u001b[39mself\u001b[39;49m)\n\u001b[1;32m    939\u001b[0m \u001b[39mexcept\u001b[39;00m MaxRetryError:\n",
      "File \u001b[0;32m~/Desktop/ATCS/Final Project/ATCSFinalProject/.venv/lib/python3.9/site-packages/urllib3/util/retry.py:515\u001b[0m, in \u001b[0;36mRetry.increment\u001b[0;34m(self, method, url, response, error, _pool, _stacktrace)\u001b[0m\n\u001b[1;32m    514\u001b[0m     reason \u001b[39m=\u001b[39m error \u001b[39mor\u001b[39;00m ResponseError(cause)\n\u001b[0;32m--> 515\u001b[0m     \u001b[39mraise\u001b[39;00m MaxRetryError(_pool, url, reason) \u001b[39mfrom\u001b[39;00m \u001b[39mreason\u001b[39;00m  \u001b[39m# type: ignore[arg-type]\u001b[39;00m\n\u001b[1;32m    517\u001b[0m log\u001b[39m.\u001b[39mdebug(\u001b[39m\"\u001b[39m\u001b[39mIncremented Retry for (url=\u001b[39m\u001b[39m'\u001b[39m\u001b[39m%s\u001b[39;00m\u001b[39m'\u001b[39m\u001b[39m): \u001b[39m\u001b[39m%r\u001b[39;00m\u001b[39m\"\u001b[39m, url, new_retry)\n",
      "\u001b[0;31mMaxRetryError\u001b[0m: HTTPSConnectionPool(host='api.spotify.com', port=443): Max retries exceeded with url: /v1/audio-features/?ids=2zyLMphhwqYIYhGvh36SoG (Caused by ResponseError('too many 429 error responses'))",
      "\nDuring handling of the above exception, another exception occurred:\n",
      "\u001b[0;31mRetryError\u001b[0m                                Traceback (most recent call last)",
      "File \u001b[0;32m~/Desktop/ATCS/Final Project/ATCSFinalProject/.venv/lib/python3.9/site-packages/spotipy/client.py:266\u001b[0m, in \u001b[0;36mSpotify._internal_call\u001b[0;34m(self, method, url, payload, params)\u001b[0m\n\u001b[1;32m    265\u001b[0m \u001b[39mtry\u001b[39;00m:\n\u001b[0;32m--> 266\u001b[0m     response \u001b[39m=\u001b[39m \u001b[39mself\u001b[39;49m\u001b[39m.\u001b[39;49m_session\u001b[39m.\u001b[39;49mrequest(\n\u001b[1;32m    267\u001b[0m         method, url, headers\u001b[39m=\u001b[39;49mheaders, proxies\u001b[39m=\u001b[39;49m\u001b[39mself\u001b[39;49m\u001b[39m.\u001b[39;49mproxies,\n\u001b[1;32m    268\u001b[0m         timeout\u001b[39m=\u001b[39;49m\u001b[39mself\u001b[39;49m\u001b[39m.\u001b[39;49mrequests_timeout, \u001b[39m*\u001b[39;49m\u001b[39m*\u001b[39;49margs\n\u001b[1;32m    269\u001b[0m     )\n\u001b[1;32m    271\u001b[0m     response\u001b[39m.\u001b[39mraise_for_status()\n",
      "File \u001b[0;32m~/Desktop/ATCS/Final Project/ATCSFinalProject/.venv/lib/python3.9/site-packages/requests/sessions.py:589\u001b[0m, in \u001b[0;36mSession.request\u001b[0;34m(self, method, url, params, data, headers, cookies, files, auth, timeout, allow_redirects, proxies, hooks, stream, verify, cert, json)\u001b[0m\n\u001b[1;32m    588\u001b[0m send_kwargs\u001b[39m.\u001b[39mupdate(settings)\n\u001b[0;32m--> 589\u001b[0m resp \u001b[39m=\u001b[39m \u001b[39mself\u001b[39;49m\u001b[39m.\u001b[39;49msend(prep, \u001b[39m*\u001b[39;49m\u001b[39m*\u001b[39;49msend_kwargs)\n\u001b[1;32m    591\u001b[0m \u001b[39mreturn\u001b[39;00m resp\n",
      "File \u001b[0;32m~/Desktop/ATCS/Final Project/ATCSFinalProject/.venv/lib/python3.9/site-packages/requests/sessions.py:703\u001b[0m, in \u001b[0;36mSession.send\u001b[0;34m(self, request, **kwargs)\u001b[0m\n\u001b[1;32m    702\u001b[0m \u001b[39m# Send the request\u001b[39;00m\n\u001b[0;32m--> 703\u001b[0m r \u001b[39m=\u001b[39m adapter\u001b[39m.\u001b[39;49msend(request, \u001b[39m*\u001b[39;49m\u001b[39m*\u001b[39;49mkwargs)\n\u001b[1;32m    705\u001b[0m \u001b[39m# Total elapsed time of the request (approximately)\u001b[39;00m\n",
      "File \u001b[0;32m~/Desktop/ATCS/Final Project/ATCSFinalProject/.venv/lib/python3.9/site-packages/requests/adapters.py:510\u001b[0m, in \u001b[0;36mHTTPAdapter.send\u001b[0;34m(self, request, stream, timeout, verify, cert, proxies)\u001b[0m\n\u001b[1;32m    509\u001b[0m \u001b[39mif\u001b[39;00m \u001b[39misinstance\u001b[39m(e\u001b[39m.\u001b[39mreason, ResponseError):\n\u001b[0;32m--> 510\u001b[0m     \u001b[39mraise\u001b[39;00m RetryError(e, request\u001b[39m=\u001b[39mrequest)\n\u001b[1;32m    512\u001b[0m \u001b[39mif\u001b[39;00m \u001b[39misinstance\u001b[39m(e\u001b[39m.\u001b[39mreason, _ProxyError):\n",
      "\u001b[0;31mRetryError\u001b[0m: HTTPSConnectionPool(host='api.spotify.com', port=443): Max retries exceeded with url: /v1/audio-features/?ids=2zyLMphhwqYIYhGvh36SoG (Caused by ResponseError('too many 429 error responses'))",
      "\nDuring handling of the above exception, another exception occurred:\n",
      "\u001b[0;31mSpotifyException\u001b[0m                          Traceback (most recent call last)",
      "\u001b[1;32m/Users/liamkrenz/Desktop/ATCS/Final Project/ATCSFinalProject/playlisteditor.ipynb Cell 6\u001b[0m line \u001b[0;36m6\n\u001b[1;32m      <a href='vscode-notebook-cell:/Users/liamkrenz/Desktop/ATCS/Final%20Project/ATCSFinalProject/playlisteditor.ipynb#W4sZmlsZQ%3D%3D?line=3'>4</a>\u001b[0m \u001b[39mfor\u001b[39;00m i \u001b[39min\u001b[39;00m playlist_data : \n\u001b[1;32m      <a href='vscode-notebook-cell:/Users/liamkrenz/Desktop/ATCS/Final%20Project/ATCSFinalProject/playlisteditor.ipynb#W4sZmlsZQ%3D%3D?line=4'>5</a>\u001b[0m     names\u001b[39m.\u001b[39mappend(i[\u001b[39m\"\u001b[39m\u001b[39mtrack\u001b[39m\u001b[39m\"\u001b[39m][\u001b[39m\"\u001b[39m\u001b[39mname\u001b[39m\u001b[39m\"\u001b[39m])\n\u001b[0;32m----> <a href='vscode-notebook-cell:/Users/liamkrenz/Desktop/ATCS/Final%20Project/ATCSFinalProject/playlisteditor.ipynb#W4sZmlsZQ%3D%3D?line=5'>6</a>\u001b[0m     playlist\u001b[39m.\u001b[39mappend(spotify\u001b[39m.\u001b[39;49maudio_features(i[\u001b[39m\"\u001b[39;49m\u001b[39mtrack\u001b[39;49m\u001b[39m\"\u001b[39;49m][\u001b[39m\"\u001b[39;49m\u001b[39mid\u001b[39;49m\u001b[39m\"\u001b[39;49m])[\u001b[39m0\u001b[39m])\n\u001b[1;32m      <a href='vscode-notebook-cell:/Users/liamkrenz/Desktop/ATCS/Final%20Project/ATCSFinalProject/playlisteditor.ipynb#W4sZmlsZQ%3D%3D?line=7'>8</a>\u001b[0m \u001b[39mprint\u001b[39m(playlist[\u001b[39m1\u001b[39m])\n",
      "File \u001b[0;32m~/Desktop/ATCS/Final Project/ATCSFinalProject/.venv/lib/python3.9/site-packages/spotipy/client.py:1734\u001b[0m, in \u001b[0;36mSpotify.audio_features\u001b[0;34m(self, tracks)\u001b[0m\n\u001b[1;32m   1732\u001b[0m \u001b[39mif\u001b[39;00m \u001b[39misinstance\u001b[39m(tracks, \u001b[39mstr\u001b[39m):\n\u001b[1;32m   1733\u001b[0m     trackid \u001b[39m=\u001b[39m \u001b[39mself\u001b[39m\u001b[39m.\u001b[39m_get_id(\u001b[39m\"\u001b[39m\u001b[39mtrack\u001b[39m\u001b[39m\"\u001b[39m, tracks)\n\u001b[0;32m-> 1734\u001b[0m     results \u001b[39m=\u001b[39m \u001b[39mself\u001b[39;49m\u001b[39m.\u001b[39;49m_get(\u001b[39m\"\u001b[39;49m\u001b[39maudio-features/?ids=\u001b[39;49m\u001b[39m\"\u001b[39;49m \u001b[39m+\u001b[39;49m trackid)\n\u001b[1;32m   1735\u001b[0m \u001b[39melse\u001b[39;00m:\n\u001b[1;32m   1736\u001b[0m     tlist \u001b[39m=\u001b[39m [\u001b[39mself\u001b[39m\u001b[39m.\u001b[39m_get_id(\u001b[39m\"\u001b[39m\u001b[39mtrack\u001b[39m\u001b[39m\"\u001b[39m, t) \u001b[39mfor\u001b[39;00m t \u001b[39min\u001b[39;00m tracks]\n",
      "File \u001b[0;32m~/Desktop/ATCS/Final Project/ATCSFinalProject/.venv/lib/python3.9/site-packages/spotipy/client.py:323\u001b[0m, in \u001b[0;36mSpotify._get\u001b[0;34m(self, url, args, payload, **kwargs)\u001b[0m\n\u001b[1;32m    320\u001b[0m \u001b[39mif\u001b[39;00m args:\n\u001b[1;32m    321\u001b[0m     kwargs\u001b[39m.\u001b[39mupdate(args)\n\u001b[0;32m--> 323\u001b[0m \u001b[39mreturn\u001b[39;00m \u001b[39mself\u001b[39;49m\u001b[39m.\u001b[39;49m_internal_call(\u001b[39m\"\u001b[39;49m\u001b[39mGET\u001b[39;49m\u001b[39m\"\u001b[39;49m, url, payload, kwargs)\n",
      "File \u001b[0;32m~/Desktop/ATCS/Final Project/ATCSFinalProject/.venv/lib/python3.9/site-packages/spotipy/client.py:307\u001b[0m, in \u001b[0;36mSpotify._internal_call\u001b[0;34m(self, method, url, payload, params)\u001b[0m\n\u001b[1;32m    305\u001b[0m     \u001b[39mexcept\u001b[39;00m (\u001b[39mIndexError\u001b[39;00m, \u001b[39mAttributeError\u001b[39;00m):\n\u001b[1;32m    306\u001b[0m         reason \u001b[39m=\u001b[39m \u001b[39mNone\u001b[39;00m\n\u001b[0;32m--> 307\u001b[0m     \u001b[39mraise\u001b[39;00m SpotifyException(\n\u001b[1;32m    308\u001b[0m         \u001b[39m429\u001b[39m,\n\u001b[1;32m    309\u001b[0m         \u001b[39m-\u001b[39m\u001b[39m1\u001b[39m,\n\u001b[1;32m    310\u001b[0m         \u001b[39m\"\u001b[39m\u001b[39m%s\u001b[39;00m\u001b[39m:\u001b[39m\u001b[39m\\n\u001b[39;00m\u001b[39m \u001b[39m\u001b[39m%s\u001b[39;00m\u001b[39m\"\u001b[39m \u001b[39m%\u001b[39m (request\u001b[39m.\u001b[39mpath_url, \u001b[39m\"\u001b[39m\u001b[39mMax Retries\u001b[39m\u001b[39m\"\u001b[39m),\n\u001b[1;32m    311\u001b[0m         reason\u001b[39m=\u001b[39mreason\n\u001b[1;32m    312\u001b[0m     )\n\u001b[1;32m    313\u001b[0m \u001b[39mexcept\u001b[39;00m \u001b[39mValueError\u001b[39;00m:\n\u001b[1;32m    314\u001b[0m     results \u001b[39m=\u001b[39m \u001b[39mNone\u001b[39;00m\n",
      "\u001b[0;31mSpotifyException\u001b[0m: http status: 429, code:-1 - /v1/audio-features/?ids=2zyLMphhwqYIYhGvh36SoG:\n Max Retries, reason: too many 429 error responses"
     ]
    }
   ],
   "source": [
    "playlist = []\n",
    "names = []\n",
    "\n",
    "for i in playlist_data : \n",
    "    names.append(i[\"track\"][\"name\"])\n",
    "    playlist.append(spotify.audio_features(i[\"track\"][\"id\"])[0])\n",
    "\n",
    "print(playlist[1])\n"
   ]
  },
  {
   "cell_type": "markdown",
   "metadata": {},
   "source": [
    "### Convert the new data into a dataframe including the name of each song"
   ]
  },
  {
   "cell_type": "code",
   "execution_count": 21,
   "metadata": {},
   "outputs": [
    {
     "name": "stderr",
     "output_type": "stream",
     "text": [
      "/Users/liamkrenz/Desktop/ATCS/Final Project/ATCSFinalProject/.venv/lib/python3.9/site-packages/sklearn/utils/_array_api.py:472: RuntimeWarning: All-NaN slice encountered\n",
      "  return xp.asarray(numpy.nanmin(X, axis=axis))\n",
      "/Users/liamkrenz/Desktop/ATCS/Final Project/ATCSFinalProject/.venv/lib/python3.9/site-packages/sklearn/utils/_array_api.py:489: RuntimeWarning: All-NaN slice encountered\n",
      "  return xp.asarray(numpy.nanmax(X, axis=axis))\n"
     ]
    },
    {
     "data": {
      "text/html": [
       "<div>\n",
       "<style scoped>\n",
       "    .dataframe tbody tr th:only-of-type {\n",
       "        vertical-align: middle;\n",
       "    }\n",
       "\n",
       "    .dataframe tbody tr th {\n",
       "        vertical-align: top;\n",
       "    }\n",
       "\n",
       "    .dataframe thead th {\n",
       "        text-align: right;\n",
       "    }\n",
       "</style>\n",
       "<table border=\"1\" class=\"dataframe\">\n",
       "  <thead>\n",
       "    <tr style=\"text-align: right;\">\n",
       "      <th></th>\n",
       "      <th>danceability</th>\n",
       "      <th>energy</th>\n",
       "      <th>loudness</th>\n",
       "      <th>speechiness</th>\n",
       "      <th>acousticness</th>\n",
       "      <th>instrumentalness</th>\n",
       "      <th>liveness</th>\n",
       "      <th>valence</th>\n",
       "      <th>tempo</th>\n",
       "      <th>name</th>\n",
       "    </tr>\n",
       "  </thead>\n",
       "  <tbody>\n",
       "    <tr>\n",
       "      <th>0</th>\n",
       "      <td>NaN</td>\n",
       "      <td>NaN</td>\n",
       "      <td>NaN</td>\n",
       "      <td>NaN</td>\n",
       "      <td>NaN</td>\n",
       "      <td>NaN</td>\n",
       "      <td>NaN</td>\n",
       "      <td>NaN</td>\n",
       "      <td>NaN</td>\n",
       "      <td>Knew You</td>\n",
       "    </tr>\n",
       "  </tbody>\n",
       "</table>\n",
       "</div>"
      ],
      "text/plain": [
       "  danceability energy loudness speechiness acousticness instrumentalness  \\\n",
       "0          NaN    NaN      NaN         NaN          NaN              NaN   \n",
       "\n",
       "  liveness valence  tempo      name  \n",
       "0      NaN     NaN    NaN  Knew You  "
      ]
     },
     "execution_count": 21,
     "metadata": {},
     "output_type": "execute_result"
    }
   ],
   "source": [
    "collumns = [\"danceability\", \"energy\", \"key\", \"loudness\", \"mode\", \"speechiness\", \"acousticness\", \"instrumentalness\", \"liveness\", \"valence\", \"tempo\", \"type\", \"id\", \"uri\", \"track_href\", \"analysis_url\", \"duration_ms\", \"time_signature\"]\n",
    "selected_columns = [\"danceability\", \"energy\", \"loudness\", \"speechiness\", \"acousticness\", \"instrumentalness\", \"liveness\", \"valence\", \"tempo\"]\n",
    "\n",
    "df = pd.DataFrame(playlist, columns=collumns)\n",
    "df = df[selected_columns]\n",
    "df[\"name\"] = names\n",
    "\n",
    "scaler = MinMaxScaler()\n",
    "scaler = scaler.fit(df[[\"tempo\"]])\n",
    "\n",
    "df[\"tempo\"] = pd.DataFrame(scaler.transform(df[[\"tempo\"]]))\n",
    "df\n",
    "\n",
    "\n",
    "\n"
   ]
  },
  {
   "cell_type": "markdown",
   "metadata": {},
   "source": [
    "## Find the distance of each song to the central point of the playlist's cluster"
   ]
  },
  {
   "cell_type": "code",
   "execution_count": null,
   "metadata": {},
   "outputs": [
    {
     "name": "stdout",
     "output_type": "stream",
     "text": [
      "4.731741198633519\n"
     ]
    },
    {
     "data": {
      "text/html": [
       "<div>\n",
       "<style scoped>\n",
       "    .dataframe tbody tr th:only-of-type {\n",
       "        vertical-align: middle;\n",
       "    }\n",
       "\n",
       "    .dataframe tbody tr th {\n",
       "        vertical-align: top;\n",
       "    }\n",
       "\n",
       "    .dataframe thead th {\n",
       "        text-align: right;\n",
       "    }\n",
       "</style>\n",
       "<table border=\"1\" class=\"dataframe\">\n",
       "  <thead>\n",
       "    <tr style=\"text-align: right;\">\n",
       "      <th></th>\n",
       "      <th>danceability</th>\n",
       "      <th>energy</th>\n",
       "      <th>loudness</th>\n",
       "      <th>speechiness</th>\n",
       "      <th>acousticness</th>\n",
       "      <th>instrumentalness</th>\n",
       "      <th>liveness</th>\n",
       "      <th>valence</th>\n",
       "      <th>tempo</th>\n",
       "      <th>name</th>\n",
       "      <th>distance</th>\n",
       "    </tr>\n",
       "  </thead>\n",
       "  <tbody>\n",
       "    <tr>\n",
       "      <th>51</th>\n",
       "      <td>0.566</td>\n",
       "      <td>0.366</td>\n",
       "      <td>-12.808</td>\n",
       "      <td>0.0280</td>\n",
       "      <td>0.113</td>\n",
       "      <td>0.18100</td>\n",
       "      <td>0.155</td>\n",
       "      <td>0.237</td>\n",
       "      <td>0.506634</td>\n",
       "      <td>we fell in love in october</td>\n",
       "      <td>6.704960</td>\n",
       "    </tr>\n",
       "    <tr>\n",
       "      <th>80</th>\n",
       "      <td>0.809</td>\n",
       "      <td>0.463</td>\n",
       "      <td>-11.377</td>\n",
       "      <td>0.0396</td>\n",
       "      <td>0.256</td>\n",
       "      <td>0.08500</td>\n",
       "      <td>0.109</td>\n",
       "      <td>0.364</td>\n",
       "      <td>0.360727</td>\n",
       "      <td>Passionfruit</td>\n",
       "      <td>5.270838</td>\n",
       "    </tr>\n",
       "    <tr>\n",
       "      <th>123</th>\n",
       "      <td>0.453</td>\n",
       "      <td>0.350</td>\n",
       "      <td>-11.639</td>\n",
       "      <td>0.0425</td>\n",
       "      <td>0.827</td>\n",
       "      <td>0.00122</td>\n",
       "      <td>0.144</td>\n",
       "      <td>0.279</td>\n",
       "      <td>0.036428</td>\n",
       "      <td>Arcade</td>\n",
       "      <td>5.586864</td>\n",
       "    </tr>\n",
       "    <tr>\n",
       "      <th>158</th>\n",
       "      <td>0.226</td>\n",
       "      <td>0.280</td>\n",
       "      <td>-11.460</td>\n",
       "      <td>0.0316</td>\n",
       "      <td>0.949</td>\n",
       "      <td>0.08870</td>\n",
       "      <td>0.315</td>\n",
       "      <td>0.625</td>\n",
       "      <td>0.221011</td>\n",
       "      <td>The Star Spangled Banner (United States of Ame...</td>\n",
       "      <td>5.431824</td>\n",
       "    </tr>\n",
       "  </tbody>\n",
       "</table>\n",
       "</div>"
      ],
      "text/plain": [
       "     danceability  energy  loudness  speechiness  acousticness  \\\n",
       "51          0.566   0.366   -12.808       0.0280         0.113   \n",
       "80          0.809   0.463   -11.377       0.0396         0.256   \n",
       "123         0.453   0.350   -11.639       0.0425         0.827   \n",
       "158         0.226   0.280   -11.460       0.0316         0.949   \n",
       "\n",
       "     instrumentalness  liveness  valence     tempo  \\\n",
       "51            0.18100     0.155    0.237  0.506634   \n",
       "80            0.08500     0.109    0.364  0.360727   \n",
       "123           0.00122     0.144    0.279  0.036428   \n",
       "158           0.08870     0.315    0.625  0.221011   \n",
       "\n",
       "                                                  name  distance  \n",
       "51                          we fell in love in october  6.704960  \n",
       "80                                        Passionfruit  5.270838  \n",
       "123                                             Arcade  5.586864  \n",
       "158  The Star Spangled Banner (United States of Ame...  5.431824  "
      ]
     },
     "execution_count": 5,
     "metadata": {},
     "output_type": "execute_result"
    }
   ],
   "source": [
    "model = KMeans(n_clusters=1)\n",
    "model.fit(df[selected_columns])\n",
    "\n",
    "\n",
    "centroid = model.cluster_centers_[0]\n",
    "distances = []\n",
    "\n",
    "for i in range(len(df)) :\n",
    "    distance = cdist([df[selected_columns].iloc[i]], [centroid], metric=\"euclidean\")\n",
    "    distances.append(distance[0][0])\n",
    "\n",
    "df[\"distance\"] = distances\n",
    "\n",
    "Q1 = df[\"distance\"].quantile(0.25)\n",
    "Q3 = df['distance'].quantile(0.75)\n",
    "\n",
    "max = Q3 + (Q3-Q1)*1.5\n",
    "print(max)\n",
    "\n",
    "df.loc[df[\"distance\"] > max]\n",
    "\n"
   ]
  },
  {
   "cell_type": "markdown",
   "metadata": {},
   "source": [
    "## Load in the data"
   ]
  },
  {
   "cell_type": "code",
   "execution_count": null,
   "metadata": {},
   "outputs": [],
   "source": [
    "df = pd.read_csv(\"data/bike_share.csv\")"
   ]
  },
  {
   "cell_type": "markdown",
   "metadata": {},
   "source": [
    "## Find recommendations"
   ]
  },
  {
   "cell_type": "code",
   "execution_count": null,
   "metadata": {},
   "outputs": [],
   "source": []
  }
 ],
 "metadata": {
  "kernelspec": {
   "display_name": ".venv",
   "language": "python",
   "name": "python3"
  },
  "language_info": {
   "codemirror_mode": {
    "name": "ipython",
    "version": 3
   },
   "file_extension": ".py",
   "mimetype": "text/x-python",
   "name": "python",
   "nbconvert_exporter": "python",
   "pygments_lexer": "ipython3",
   "version": "3.9.6"
  },
  "orig_nbformat": 4
 },
 "nbformat": 4,
 "nbformat_minor": 2
}
