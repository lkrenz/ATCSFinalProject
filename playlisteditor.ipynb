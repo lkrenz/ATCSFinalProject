{
 "cells": [
  {
   "cell_type": "markdown",
   "metadata": {},
   "source": [
    "# Playlist analyzer"
   ]
  },
  {
   "cell_type": "markdown",
   "metadata": {},
   "source": [
    "Because of what happened with my account being flagged, this current code doesn't work. It was working perfectly until class, but I will have to find a workaround that doesn't use the api to find song data on the user's playlist. "
   ]
  },
  {
   "cell_type": "markdown",
   "metadata": {},
   "source": [
    "## Import the spotify api"
   ]
  },
  {
   "cell_type": "code",
   "execution_count": 76,
   "metadata": {},
   "outputs": [],
   "source": [
    "import spotipy\n",
    "from spotipy.oauth2 import SpotifyOAuth\n",
    "import pandas as pd\n",
    "from scipy.spatial.distance import cdist\n",
    "from sklearn.cluster import KMeans\n",
    "from sklearn.preprocessing import MinMaxScaler\n",
    "\n",
    "# Define your credentials and redirection URI\n",
    "SPOTIPY_CLIENT_ID = 'dda606479dd244a9b0948c01f155ac7a'\n",
    "SPOTIPY_CLIENT_SECRET = 'd714739739a04b0fa662e521e1a85ff8'\n",
    "SPOTIPY_REDIRECT_URI = 'http://localhost:3000'\n",
    "\n",
    "# Create the Spotify client\n",
    "\n",
    "spotify = spotipy.Spotify(auth_manager=SpotifyOAuth(\n",
    "    client_id=SPOTIPY_CLIENT_ID,\n",
    "    client_secret=SPOTIPY_CLIENT_SECRET,\n",
    "    redirect_uri=SPOTIPY_REDIRECT_URI,\n",
    "))\n",
    "\n",
    "user_name = input(\"Enter your spotify ID: \")\n",
    "playlists = spotify.user_playlists(user_name)\n",
    "name = input(\"Enter playlist name: \")\n",
    "\n",
    "\n",
    "# https://stackoverflow.com/questions/39086287/spotipy-how-to-read-more-than-100-tracks-from-a-playlist\n",
    "def get_playlist_tracks(playlist_id):\n",
    "    results = spotify.playlist_tracks(playlist_id)\n",
    "    tracks = results['items']\n",
    "    while results['next']:\n",
    "        results = spotify.next(results)\n",
    "        tracks.extend(results['items'])\n",
    "    return tracks\n",
    "\n",
    "playlist_id = 0\n",
    "for i in playlists[\"items\"] : \n",
    "    if i[\"name\"] == name :\n",
    "        playlist_id = i[\"id\"]\n",
    "playlist_data = get_playlist_tracks(playlist_id)\n"
   ]
  },
  {
   "cell_type": "markdown",
   "metadata": {},
   "source": [
    "## Extract song data on each song"
   ]
  },
  {
   "cell_type": "code",
   "execution_count": 77,
   "metadata": {},
   "outputs": [],
   "source": [
    "playlist = []\n",
    "names = []\n",
    "\n",
    "for i in playlist_data : \n",
    "    names.append(i[\"track\"][\"name\"])\n",
    "    playlist.append(spotify.audio_features(i[\"track\"][\"id\"])[0])\n"
   ]
  },
  {
   "cell_type": "markdown",
   "metadata": {},
   "source": [
    "### Convert the new data into a dataframe including the name of each song"
   ]
  },
  {
   "cell_type": "code",
   "execution_count": 78,
   "metadata": {},
   "outputs": [],
   "source": [
    "collumns = [\"danceability\", \"energy\", \"key\", \"loudness\", \"mode\", \"speechiness\", \"acousticness\", \"instrumentalness\", \"liveness\", \"valence\", \"tempo\", \"type\", \"id\", \"uri\", \"track_href\", \"analysis_url\", \"duration_ms\", \"time_signature\"]\n",
    "selected_columns = [\"energy\", \"acousticness\", \"valence\", \"speechiness\"]\n",
    "\n",
    "df = pd.DataFrame(playlist, columns=collumns)\n",
    "df = df[selected_columns]\n",
    "df[\"name\"] = names"
   ]
  },
  {
   "cell_type": "markdown",
   "metadata": {},
   "source": [
    "## Find the distance of each song to the central point of the playlist's cluster"
   ]
  },
  {
   "cell_type": "code",
   "execution_count": 79,
   "metadata": {},
   "outputs": [
    {
     "name": "stdout",
     "output_type": "stream",
     "text": [
      "0.6861360285927631\n"
     ]
    },
    {
     "data": {
      "text/html": [
       "<div>\n",
       "<style scoped>\n",
       "    .dataframe tbody tr th:only-of-type {\n",
       "        vertical-align: middle;\n",
       "    }\n",
       "\n",
       "    .dataframe tbody tr th {\n",
       "        vertical-align: top;\n",
       "    }\n",
       "\n",
       "    .dataframe thead th {\n",
       "        text-align: right;\n",
       "    }\n",
       "</style>\n",
       "<table border=\"1\" class=\"dataframe\">\n",
       "  <thead>\n",
       "    <tr style=\"text-align: right;\">\n",
       "      <th></th>\n",
       "      <th>energy</th>\n",
       "      <th>acousticness</th>\n",
       "      <th>valence</th>\n",
       "      <th>speechiness</th>\n",
       "      <th>name</th>\n",
       "      <th>distance</th>\n",
       "    </tr>\n",
       "  </thead>\n",
       "  <tbody>\n",
       "    <tr>\n",
       "      <th>56</th>\n",
       "      <td>0.236</td>\n",
       "      <td>0.898</td>\n",
       "      <td>0.254</td>\n",
       "      <td>0.0318</td>\n",
       "      <td>Moon</td>\n",
       "      <td>0.869987</td>\n",
       "    </tr>\n",
       "    <tr>\n",
       "      <th>198</th>\n",
       "      <td>0.846</td>\n",
       "      <td>0.720</td>\n",
       "      <td>0.747</td>\n",
       "      <td>0.0741</td>\n",
       "      <td>PROBLEMATIC</td>\n",
       "      <td>0.695793</td>\n",
       "    </tr>\n",
       "    <tr>\n",
       "      <th>218</th>\n",
       "      <td>0.398</td>\n",
       "      <td>0.872</td>\n",
       "      <td>0.482</td>\n",
       "      <td>0.2680</td>\n",
       "      <td>Hex</td>\n",
       "      <td>0.763450</td>\n",
       "    </tr>\n",
       "  </tbody>\n",
       "</table>\n",
       "</div>"
      ],
      "text/plain": [
       "     energy  acousticness  valence  speechiness         name  distance\n",
       "56    0.236         0.898    0.254       0.0318         Moon  0.869987\n",
       "198   0.846         0.720    0.747       0.0741  PROBLEMATIC  0.695793\n",
       "218   0.398         0.872    0.482       0.2680          Hex  0.763450"
      ]
     },
     "execution_count": 79,
     "metadata": {},
     "output_type": "execute_result"
    }
   ],
   "source": [
    "model = KMeans(n_clusters=1)\n",
    "model.fit(df[selected_columns])\n",
    "\n",
    "\n",
    "centroid = model.cluster_centers_[0]\n",
    "distances = []\n",
    "\n",
    "for i in range(len(df)) :\n",
    "    distance = cdist([df[selected_columns].iloc[i]], [centroid], metric=\"euclidean\")\n",
    "    distances.append(distance[0][0])\n",
    "\n",
    "df[\"distance\"] = distances\n",
    "\n",
    "Q1 = df[\"distance\"].quantile(0.25)\n",
    "Q3 = df['distance'].quantile(0.75)\n",
    "\n",
    "max = Q3 + (Q3-Q1)*2\n",
    "print(max)\n",
    "\n",
    "df.loc[df[\"distance\"] > max]\n",
    "\n"
   ]
  },
  {
   "cell_type": "markdown",
   "metadata": {},
   "source": [
    "## Load in the data"
   ]
  },
  {
   "cell_type": "code",
   "execution_count": 80,
   "metadata": {},
   "outputs": [
    {
     "name": "stderr",
     "output_type": "stream",
     "text": [
      "/var/folders/k6/qgdgj9qj743ff3dn87fyv0yr0000gn/T/ipykernel_2575/3618754505.py:1: DtypeWarning: Columns (0) have mixed types. Specify dtype option on import or set low_memory=False.\n",
      "  df = pd.read_csv(\"data.csv\")\n"
     ]
    }
   ],
   "source": [
    "df = pd.read_csv(\"data.csv\")\n",
    "df['energy'] = pd.to_numeric(df['energy'], errors='coerce')\n"
   ]
  },
  {
   "cell_type": "markdown",
   "metadata": {},
   "source": [
    "## Find recommendations"
   ]
  },
  {
   "cell_type": "code",
   "execution_count": 81,
   "metadata": {},
   "outputs": [
    {
     "name": "stdout",
     "output_type": "stream",
     "text": [
      "['Psycho', 'Slowdown', 'Nothing Since Then', 'Drunken Pirates', 'Bitch', 'Light in Me', 'Light in me', 'Kiss You', 'Blue', 'Good', 'Combative Five', 'Cooked', 'Hard to find', 'one', 'Wood West', 'Euphoria', 'Sting fells', 'Wather', 'Fly', 'Hard Love', 'Ban Tay Lanh', 'Buoc Di', 'Buon Lam Gi', 'Canh En', 'Gia Quen Em', 'Hoa Roi Cua Phat', 'Rainy Day Memories', 'Tang Phuc', 'Troi Cung Em', 'Troi Nguoc', 'Trom Tim Ai', 'Xa Em', 'Bust the New Jam', 'Bust The New Jam', 'Stay', 'Titanium', 'Play Hard', 'Stay The Night', 'Secrets', 'Lost In Cheeseville', \"Don't Stop the Music\", 'Tainted Love', \"You're Still the One\", 'Move Your Body', 'You & I feat. Tina Amy', 'You & I', 'Not Quite Human', 'Shapeshifter', 'Photographic', 'Sacrilege']\n"
     ]
    }
   ],
   "source": [
    "recommendations = []\n",
    "for i in range(len(df)) :\n",
    "    distance = cdist([df[selected_columns].iloc[i].values], [centroid], metric=\"euclidean\")\n",
    "    if (distance < 0.2) :\n",
    "        title = df.iloc[i][\"title\"]\n",
    "        if (\"(\" not in title) : \n",
    "            recommendations.append(title)\n",
    "    if len(recommendations) >= 50 :\n",
    "        break\n",
    "\n",
    "print(recommendations)\n",
    "\n"
   ]
  }
 ],
 "metadata": {
  "kernelspec": {
   "display_name": ".venv",
   "language": "python",
   "name": "python3"
  },
  "language_info": {
   "codemirror_mode": {
    "name": "ipython",
    "version": 3
   },
   "file_extension": ".py",
   "mimetype": "text/x-python",
   "name": "python",
   "nbconvert_exporter": "python",
   "pygments_lexer": "ipython3",
   "version": "3.9.6"
  },
  "orig_nbformat": 4
 },
 "nbformat": 4,
 "nbformat_minor": 2
}
