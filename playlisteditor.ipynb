{
 "cells": [
  {
   "cell_type": "markdown",
   "metadata": {},
   "source": [
    "# Playlist analyzer"
   ]
  },
  {
   "cell_type": "markdown",
   "metadata": {},
   "source": [
    "Because of what happened with my account being flagged, this current code doesn't work. It was working perfectly until class, but I will have to find a workaround that doesn't use the api to find song data on the user's playlist. "
   ]
  },
  {
   "cell_type": "markdown",
   "metadata": {},
   "source": [
    "## Import the spotify api"
   ]
  },
  {
   "cell_type": "code",
   "execution_count": 67,
   "metadata": {},
   "outputs": [],
   "source": [
    "import spotipy\n",
    "from spotipy.oauth2 import SpotifyOAuth\n",
    "import pandas as pd\n",
    "from scipy.spatial.distance import cdist\n",
    "from sklearn.cluster import KMeans\n",
    "from sklearn.preprocessing import MinMaxScaler\n",
    "\n",
    "# Define your credentials and redirection URI\n",
    "SPOTIPY_CLIENT_ID = 'dda606479dd244a9b0948c01f155ac7a'\n",
    "SPOTIPY_CLIENT_SECRET = 'd714739739a04b0fa662e521e1a85ff8'\n",
    "SPOTIPY_REDIRECT_URI = 'http://localhost:3000'\n",
    "\n",
    "# Create the Spotify client\n",
    "\n",
    "spotify = spotipy.Spotify(auth_manager=SpotifyOAuth(\n",
    "    client_id=SPOTIPY_CLIENT_ID,\n",
    "    client_secret=SPOTIPY_CLIENT_SECRET,\n",
    "    redirect_uri=SPOTIPY_REDIRECT_URI,\n",
    "))\n",
    "\n",
    "user_name = input(\"Enter your spotify ID: \")\n",
    "playlists = spotify.user_playlists(user_name)\n",
    "name = input(\"Enter playlist name: \")\n",
    "\n",
    "\n",
    "# https://stackoverflow.com/questions/39086287/spotipy-how-to-read-more-than-100-tracks-from-a-playlist\n",
    "def get_playlist_tracks(playlist_id):\n",
    "    results = spotify.playlist_tracks(playlist_id)\n",
    "    tracks = results['items']\n",
    "    while results['next']:\n",
    "        results = spotify.next(results)\n",
    "        tracks.extend(results['items'])\n",
    "    return tracks\n",
    "\n",
    "playlist_id = 0\n",
    "for i in playlists[\"items\"] : \n",
    "    if i[\"name\"] == name :\n",
    "        playlist_id = i[\"id\"]\n",
    "playlist_data = get_playlist_tracks(playlist_id)\n"
   ]
  },
  {
   "cell_type": "markdown",
   "metadata": {},
   "source": [
    "## Extract song data on each song"
   ]
  },
  {
   "cell_type": "code",
   "execution_count": 68,
   "metadata": {},
   "outputs": [
    {
     "name": "stdout",
     "output_type": "stream",
     "text": [
      "{'danceability': 0.782, 'energy': 0.787, 'key': 9, 'loudness': -2.533, 'mode': 1, 'speechiness': 0.0334, 'acousticness': 0.0125, 'instrumentalness': 5.97e-05, 'liveness': 0.112, 'valence': 0.533, 'tempo': 122.021, 'type': 'audio_features', 'id': '4eMKD8MRroxCqugpsxCCNb', 'uri': 'spotify:track:4eMKD8MRroxCqugpsxCCNb', 'track_href': 'https://api.spotify.com/v1/tracks/4eMKD8MRroxCqugpsxCCNb', 'analysis_url': 'https://api.spotify.com/v1/audio-analysis/4eMKD8MRroxCqugpsxCCNb', 'duration_ms': 232131, 'time_signature': 4}\n"
     ]
    }
   ],
   "source": [
    "playlist = []\n",
    "names = []\n",
    "\n",
    "for i in playlist_data : \n",
    "    names.append(i[\"track\"][\"name\"])\n",
    "    playlist.append(spotify.audio_features(i[\"track\"][\"id\"])[0])\n",
    "\n",
    "print(playlist[1])\n"
   ]
  },
  {
   "cell_type": "markdown",
   "metadata": {},
   "source": [
    "### Convert the new data into a dataframe including the name of each song"
   ]
  },
  {
   "cell_type": "code",
   "execution_count": 69,
   "metadata": {},
   "outputs": [
    {
     "data": {
      "text/plain": [
       "(163, 5)"
      ]
     },
     "execution_count": 69,
     "metadata": {},
     "output_type": "execute_result"
    }
   ],
   "source": [
    "collumns = [\"danceability\", \"energy\", \"key\", \"loudness\", \"mode\", \"speechiness\", \"acousticness\", \"instrumentalness\", \"liveness\", \"valence\", \"tempo\", \"type\", \"id\", \"uri\", \"track_href\", \"analysis_url\", \"duration_ms\", \"time_signature\"]\n",
    "selected_columns = [\"energy\", \"acousticness\", \"valence\", \"speechiness\"]\n",
    "\n",
    "df = pd.DataFrame(playlist, columns=collumns)\n",
    "df = df[selected_columns]\n",
    "df[\"name\"] = names\n",
    "\n",
    "# scaler = MinMaxScaler()\n",
    "# scaler = scaler.fit(df[[\"tempo\"]])\n",
    "\n",
    "# df[\"tempo\"] = pd.DataFrame(scaler.transform(df[[\"tempo\"]]))\n",
    "df.shape\n",
    "\n",
    "\n",
    "\n"
   ]
  },
  {
   "cell_type": "markdown",
   "metadata": {},
   "source": [
    "## Find the distance of each song to the central point of the playlist's cluster"
   ]
  },
  {
   "cell_type": "code",
   "execution_count": 70,
   "metadata": {},
   "outputs": [
    {
     "name": "stdout",
     "output_type": "stream",
     "text": [
      "0.7193555020707336\n"
     ]
    },
    {
     "data": {
      "text/html": [
       "<div>\n",
       "<style scoped>\n",
       "    .dataframe tbody tr th:only-of-type {\n",
       "        vertical-align: middle;\n",
       "    }\n",
       "\n",
       "    .dataframe tbody tr th {\n",
       "        vertical-align: top;\n",
       "    }\n",
       "\n",
       "    .dataframe thead th {\n",
       "        text-align: right;\n",
       "    }\n",
       "</style>\n",
       "<table border=\"1\" class=\"dataframe\">\n",
       "  <thead>\n",
       "    <tr style=\"text-align: right;\">\n",
       "      <th></th>\n",
       "      <th>energy</th>\n",
       "      <th>acousticness</th>\n",
       "      <th>valence</th>\n",
       "      <th>speechiness</th>\n",
       "      <th>name</th>\n",
       "      <th>distance</th>\n",
       "    </tr>\n",
       "  </thead>\n",
       "  <tbody>\n",
       "    <tr>\n",
       "      <th>68</th>\n",
       "      <td>0.389</td>\n",
       "      <td>0.851</td>\n",
       "      <td>0.501</td>\n",
       "      <td>0.0280</td>\n",
       "      <td>Count on Me</td>\n",
       "      <td>0.729376</td>\n",
       "    </tr>\n",
       "    <tr>\n",
       "      <th>91</th>\n",
       "      <td>0.264</td>\n",
       "      <td>0.922</td>\n",
       "      <td>0.331</td>\n",
       "      <td>0.0322</td>\n",
       "      <td>All of Me</td>\n",
       "      <td>0.862850</td>\n",
       "    </tr>\n",
       "    <tr>\n",
       "      <th>96</th>\n",
       "      <td>0.296</td>\n",
       "      <td>0.934</td>\n",
       "      <td>0.120</td>\n",
       "      <td>0.0333</td>\n",
       "      <td>lovely (with Khalid)</td>\n",
       "      <td>0.921084</td>\n",
       "    </tr>\n",
       "    <tr>\n",
       "      <th>123</th>\n",
       "      <td>0.350</td>\n",
       "      <td>0.827</td>\n",
       "      <td>0.279</td>\n",
       "      <td>0.0425</td>\n",
       "      <td>Arcade</td>\n",
       "      <td>0.753722</td>\n",
       "    </tr>\n",
       "    <tr>\n",
       "      <th>130</th>\n",
       "      <td>0.280</td>\n",
       "      <td>0.932</td>\n",
       "      <td>0.387</td>\n",
       "      <td>0.0434</td>\n",
       "      <td>When I Was Your Man</td>\n",
       "      <td>0.855310</td>\n",
       "    </tr>\n",
       "    <tr>\n",
       "      <th>142</th>\n",
       "      <td>0.303</td>\n",
       "      <td>0.694</td>\n",
       "      <td>0.139</td>\n",
       "      <td>0.0429</td>\n",
       "      <td>I Won't Give Up</td>\n",
       "      <td>0.724907</td>\n",
       "    </tr>\n",
       "  </tbody>\n",
       "</table>\n",
       "</div>"
      ],
      "text/plain": [
       "     energy  acousticness  valence  speechiness                  name  \\\n",
       "68    0.389         0.851    0.501       0.0280           Count on Me   \n",
       "91    0.264         0.922    0.331       0.0322             All of Me   \n",
       "96    0.296         0.934    0.120       0.0333  lovely (with Khalid)   \n",
       "123   0.350         0.827    0.279       0.0425                Arcade   \n",
       "130   0.280         0.932    0.387       0.0434   When I Was Your Man   \n",
       "142   0.303         0.694    0.139       0.0429       I Won't Give Up   \n",
       "\n",
       "     distance  \n",
       "68   0.729376  \n",
       "91   0.862850  \n",
       "96   0.921084  \n",
       "123  0.753722  \n",
       "130  0.855310  \n",
       "142  0.724907  "
      ]
     },
     "execution_count": 70,
     "metadata": {},
     "output_type": "execute_result"
    }
   ],
   "source": [
    "model = KMeans(n_clusters=1)\n",
    "model.fit(df[selected_columns])\n",
    "\n",
    "\n",
    "centroid = model.cluster_centers_[0]\n",
    "distances = []\n",
    "\n",
    "for i in range(len(df)) :\n",
    "    distance = cdist([df[selected_columns].iloc[i]], [centroid], metric=\"euclidean\")\n",
    "    distances.append(distance[0][0])\n",
    "\n",
    "df[\"distance\"] = distances\n",
    "\n",
    "Q1 = df[\"distance\"].quantile(0.25)\n",
    "Q3 = df['distance'].quantile(0.75)\n",
    "\n",
    "max = Q3 + (Q3-Q1)*2\n",
    "print(max)\n",
    "\n",
    "df.loc[df[\"distance\"] > max]\n",
    "\n"
   ]
  },
  {
   "cell_type": "markdown",
   "metadata": {},
   "source": [
    "## Load in the data"
   ]
  },
  {
   "cell_type": "code",
   "execution_count": 71,
   "metadata": {},
   "outputs": [
    {
     "name": "stderr",
     "output_type": "stream",
     "text": [
      "/var/folders/k6/qgdgj9qj743ff3dn87fyv0yr0000gn/T/ipykernel_2575/3618754505.py:1: DtypeWarning: Columns (0) have mixed types. Specify dtype option on import or set low_memory=False.\n",
      "  df = pd.read_csv(\"data.csv\")\n"
     ]
    }
   ],
   "source": [
    "df = pd.read_csv(\"data.csv\")\n",
    "df['energy'] = pd.to_numeric(df['energy'], errors='coerce')\n"
   ]
  },
  {
   "cell_type": "markdown",
   "metadata": {},
   "source": [
    "## Find recommendations"
   ]
  },
  {
   "cell_type": "code",
   "execution_count": 73,
   "metadata": {},
   "outputs": [
    {
     "name": "stdout",
     "output_type": "stream",
     "text": [
      "['Slowdown', 'Nothing Since Then', 'Learn to Fly', 'A Part of Myself', 'Light in Me', 'Light in me', 'Broken Inside', 'Kiss You', 'Heat', 'Good', 'Hope', 'Top', 'Combative Five', 'Cooked', 'School', 'Closterred', 'Frantic', 'one', 'Euphoria', 'Tasty', 'House Generation', 'Pendrive', 'Sting fells', 'Thin Bells', 'Wather', 'Downtown Joker', 'Hard Love', 'Mountain Goat', 'Red Magic', 'Ban Tay Lanh', 'Buoc Di', 'Canh En', 'Hoa Roi Cua Phat', 'Tim Em', 'Xa Em', 'Stay', 'Living Darfur', 'Electric Ride', 'Oxygenius', 'Down 2', 'Nocebo', 'Play Hard', 'Bad', 'Stay The Night', 'Secrets', 'Five Hours', 'Ten Feet Tall', 'Red Lights', 'On The Floor', 'Lost In Cheeseville']\n"
     ]
    }
   ],
   "source": [
    "recommendations = []\n",
    "for i in range(len(df)) :\n",
    "    distance = cdist([df[selected_columns].iloc[i].values], [centroid], metric=\"euclidean\")\n",
    "    if (distance < 0.2) :\n",
    "        title = df.iloc[i][\"title\"]\n",
    "        if (\"(\" not in title) : \n",
    "            recommendations.append(title)\n",
    "    if len(recommendations) >= 50 :\n",
    "        break\n",
    "\n",
    "print(recommendations)\n",
    "\n"
   ]
  }
 ],
 "metadata": {
  "kernelspec": {
   "display_name": ".venv",
   "language": "python",
   "name": "python3"
  },
  "language_info": {
   "codemirror_mode": {
    "name": "ipython",
    "version": 3
   },
   "file_extension": ".py",
   "mimetype": "text/x-python",
   "name": "python",
   "nbconvert_exporter": "python",
   "pygments_lexer": "ipython3",
   "version": "3.9.6"
  },
  "orig_nbformat": 4
 },
 "nbformat": 4,
 "nbformat_minor": 2
}
